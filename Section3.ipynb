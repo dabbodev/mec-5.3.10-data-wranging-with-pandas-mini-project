{
 "cells": [
  {
   "cell_type": "code",
   "execution_count": null,
   "metadata": {
    "gradient": {}
   },
   "outputs": [],
   "source": [
    "import pandas as pd\n",
    "import matplotlib.pyplot as plt\n",
    "\n",
    "%matplotlib inline"
   ]
  },
  {
   "cell_type": "code",
   "execution_count": null,
   "metadata": {
    "gradient": {}
   },
   "outputs": [],
   "source": [
    "movies = pd.read_csv('titles.csv')\n",
    "cast = pd.read_csv('cast.csv.zip')\n",
    "release_dates = pd.read_csv('release_dates.csv', parse_dates=['date'], infer_datetime_format=True)"
   ]
  },
  {
   "cell_type": "code",
   "execution_count": null,
   "metadata": {
    "gradient": {}
   },
   "outputs": [
    {
     "data": {
      "text/plain": [
       "<matplotlib.axes._subplots.AxesSubplot at 0x7f8d15185b90>"
      ]
     },
     "execution_count": 5,
     "metadata": {},
     "output_type": "execute_result"
    },
    {
     "data": {
      "image/png": "[encoded data removed]",
      "text/plain": [
       "<Figure size 432x288 with 1 Axes>"
      ]
     },
     "metadata": {
      "needs_background": "light"
     },
     "output_type": "display_data"
    }
   ],
   "source": [
    "summer = release_dates[(release_dates.title.str.contains('Summer')) & (release_dates.country == 'USA')]\n",
    "summer.date.dt.month.value_counts().sort_index().plot(kind='bar')"
   ]
  },
  {
   "cell_type": "code",
   "execution_count": null,
   "metadata": {
    "gradient": {}
   },
   "outputs": [
    {
     "data": {
      "text/plain": [
       "<matplotlib.axes._subplots.AxesSubplot at 0x7f8d41966650>"
      ]
     },
     "execution_count": 19,
     "metadata": {},
     "output_type": "execute_result"
    },
    {
     "data": {
      "image/png": "[encoded data removed]",
      "text/plain": [
       "<Figure size 432x288 with 1 Axes>"
      ]
     },
     "metadata": {
      "needs_background": "light"
     },
     "output_type": "display_data"
    }
   ],
   "source": [
    "action = release_dates[(release_dates.title.str.contains('Action')) & (release_dates.country == 'USA')]\n",
    "action.date.dt.week.value_counts().sort_index().plot(kind='bar')"
   ]
  },
  {
   "cell_type": "code",
   "execution_count": null,
   "metadata": {
    "gradient": {}
   },
   "outputs": [
    {
     "name": "stdout",
     "output_type": "stream",
     "text": [
      "Show all the movies in which Keanu Reeves has played the lead role along with their release date in the USA sorted by the date of release\n",
      "                               title       date\n",
      "17                             Speed 1922-10-22\n",
      "18                             Speed 1936-05-08\n",
      "21                    Sweet November 1968-02-08\n",
      "27                  The Night Before 1988-04-15\n",
      "3   Bill & Ted's Excellent Adventure 1989-02-17\n",
      "2         Bill & Ted's Bogus Journey 1991-07-19\n",
      "14                     Little Buddha 1994-05-25\n",
      "19                             Speed 1994-06-10\n",
      "11                   Johnny Mnemonic 1995-05-26\n",
      "1               A Walk in the Clouds 1995-08-11\n",
      "4                     Chain Reaction 1996-08-02\n",
      "6                  Feeling Minnesota 1996-09-13\n",
      "24              The Devil's Advocate 1997-10-17\n",
      "26                        The Matrix 1999-03-31\n",
      "28                  The Replacements 2000-08-11\n",
      "22                    Sweet November 2001-02-16\n",
      "7                          Hard Ball 2001-09-14\n",
      "5                        Constantine 2005-02-18\n",
      "25                    The Lake House 2006-06-16\n",
      "20                      Street Kings 2008-04-11\n",
      "23     The Day the Earth Stood Still 2008-12-12\n",
      "0                           47 Ronin 2013-12-25\n",
      "9                          John Wick 2014-10-24\n",
      "12                       Knock Knock 2015-10-09\n",
      "10              John Wick: Chapter 2 2017-02-10\n",
      "13                       Knock Knock 2017-10-06\n",
      "8                      Henry's Crime        NaT\n",
      "15                     One Step Away        NaT\n",
      "16                           Siberia        NaT\n",
      "29                   The Whole Truth        NaT\n"
     ]
    }
   ],
   "source": [
    "print(\"Show all the movies in which Keanu Reeves has played the lead role along with their release date in the USA sorted by the date of release\")\n",
    "print(pd.merge(cast[(cast.name == 'Keanu Reeves') & (cast.n == 1)], release_dates[release_dates.country == 'USA'], how='left', on=['title'])[['title', 'date']].sort_values(by=['date']))"
   ]
  },
  {
   "cell_type": "code",
   "execution_count": null,
   "metadata": {
    "gradient": {}
   },
   "outputs": [
    {
     "data": {
      "text/plain": [
       "<matplotlib.axes._subplots.AxesSubplot at 0x7f8d14161510>"
      ]
     },
     "execution_count": 21,
     "metadata": {},
     "output_type": "execute_result"
    },
    {
     "data": {
      "image/png": "[encoded data removed]",
      "text/plain": [
       "<Figure size 432x288 with 1 Axes>"
      ]
     },
     "metadata": {
      "needs_background": "light"
     },
     "output_type": "display_data"
    }
   ],
   "source": [
    "keanu = pd.merge(cast[(cast.name == 'Keanu Reeves')], release_dates[release_dates.country == 'USA'], how='left', on=['title'])[['title', 'date']].sort_values(by=['date'])\n",
    "keanu.date.dt.month.value_counts().sort_index().plot(kind='bar')"
   ]
  },
  {
   "cell_type": "code",
   "execution_count": null,
   "metadata": {
    "gradient": {}
   },
   "outputs": [
    {
     "data": {
      "text/plain": [
       "<matplotlib.axes._subplots.AxesSubplot at 0x7f8d16c73410>"
      ]
     },
     "execution_count": 22,
     "metadata": {},
     "output_type": "execute_result"
    },
    {
     "data": {
      "image/png": "[encoded data removed]",
      "text/plain": [
       "<Figure size 432x288 with 1 Axes>"
      ]
     },
     "metadata": {
      "needs_background": "light"
     },
     "output_type": "display_data"
    }
   ],
   "source": [
    "ian = pd.merge(cast[(cast.name == 'Ian McKellen')], release_dates[release_dates.country == 'USA'], how='left', on=['title'])[['title', 'date']].sort_values(by=['date'])\n",
    "ian.date.dt.year.value_counts().sort_index().plot(kind='bar')"
   ]
  },
  {
   "cell_type": "code",
   "execution_count": null,
   "metadata": {
    "gradient": {}
   },
   "outputs": [],
   "source": []
  }
 ],
 "metadata": {
  "kernelspec": {
   "display_name": "Python 3",
   "language": "python",
   "name": "python3"
  },
  "language_info": {
   "codemirror_mode": {
    "name": "ipython",
    "version": 3
   },
   "file_extension": ".py",
   "mimetype": "text/x-python",
   "name": "python",
   "nbconvert_exporter": "python",
   "pygments_lexer": "ipython3",
   "version": "3.7.9"
  }
 },
 "nbformat": 4,
 "nbformat_minor": 4
}
