{
 "cells": [
  {
   "cell_type": "code",
   "execution_count": null,
   "metadata": {
    "gradient": {}
   },
   "outputs": [
    {
     "name": "stdout",
     "output_type": "stream",
     "text": [
      "Which years in the 2000s saw the most movies released? (Show top 3)\n",
      "\n",
      "2017    11474\n",
      "2016     9440\n",
      "2015     8702\n",
      "Name: year, dtype: int64\n"
     ]
    }
   ],
   "source": [
    "import pandas as pd\n",
    "import matplotlib.pyplot as plt\n",
    "\n",
    "%matplotlib inline"
   ]
  },
  {
   "cell_type": "code",
   "execution_count": null,
   "metadata": {
    "gradient": {}
   },
   "outputs": [],
   "source": [
    "movies = pd.read_csv('titles.csv')\n",
    "cast = pd.read_csv('cast.csv.zip')\n",
    "release_dates = pd.read_csv('release_dates.csv', parse_dates=['date'], infer_datetime_format=True)"
   ]
  },
  {
   "cell_type": "code",
   "execution_count": null,
   "metadata": {
    "gradient": {}
   },
   "outputs": [],
   "source": [
    "print(\"Which years in the 2000s saw the most movies released? (Show top 3)\\n\")\n",
    "print(movies[(movies.year >= 2000)].year.value_counts()[:3])"
   ]
  },
  {
   "cell_type": "code",
   "execution_count": null,
   "metadata": {
    "gradient": {}
   },
   "outputs": [
    {
     "name": "stdout",
     "output_type": "stream",
     "text": [
      "Plot the total number of films released per-decade (1890, 1900, 1910,....)\n"
     ]
    },
    {
     "data": {
      "text/plain": [
       "<matplotlib.axes._subplots.AxesSubplot at 0x7fa1e1054850>"
      ]
     },
     "execution_count": 4,
     "metadata": {},
     "output_type": "execute_result"
    },
    {
     "data": {
      "image/png": "[encoded data removed]",
      "text/plain": [
       "<Figure size 432x288 with 1 Axes>"
      ]
     },
     "metadata": {
      "needs_background": "light"
     },
     "output_type": "display_data"
    }
   ],
   "source": [
    "print(\"Plot the total number of films released per-decade (1890, 1900, 1910,....)\")\n",
    "decades = (movies.year - (movies.year % 10)).value_counts()[:].sort_index()\n",
    "decades.plot.barh()"
   ]
  },
  {
   "cell_type": "code",
   "execution_count": null,
   "metadata": {
    "gradient": {}
   },
   "outputs": [
    {
     "name": "stdout",
     "output_type": "stream",
     "text": [
      "What are the top 10 most common character names in movie history?\n",
      "Himself        20746\n",
      "Dancer         12477\n",
      "Extra          11948\n",
      "Reporter        8434\n",
      "Student         7773\n",
      "Doctor          7669\n",
      "Party Guest     7245\n",
      "Policeman       7029\n",
      "Nurse           6999\n",
      "Bartender       6802\n",
      "Name: character, dtype: int64\n",
      "\n",
      "Who are the top 10 people most often credited as \"Herself\" in movie history?\n",
      "Queen Elizabeth II           12\n",
      "Joyce Brothers                9\n",
      "Mar?a Luisa (V) Mart?n        9\n",
      "Luisa Horga                   9\n",
      "Margaret Thatcher             8\n",
      "Hillary Clinton               8\n",
      "Joan Rivers                   6\n",
      "Marilyn Monroe                6\n",
      "Sumie Sakai                   6\n",
      "Mar?a Isabel (III) Mart?n     6\n",
      "Name: name, dtype: int64\n",
      "\n",
      "Who are the top 10 people most often credited as \"Himself\" in movie history?\n",
      "Adolf Hitler             99\n",
      "Richard Nixon            44\n",
      "Ronald Reagan            41\n",
      "John F. Kennedy          37\n",
      "George W. Bush           25\n",
      "Winston Churchill        24\n",
      "Martin Luther King       23\n",
      "Bill Clinton             22\n",
      "Ron Jeremy               22\n",
      "Franklin D. Roosevelt    21\n",
      "Name: name, dtype: int64\n"
     ]
    }
   ],
   "source": [
    "print(\"What are the top 10 most common character names in movie history?\")\n",
    "print(cast.character.value_counts()[:10])\n",
    "print('\\nWho are the top 10 people most often credited as \"Herself\" in movie history?')\n",
    "print(cast[cast.character == \"Herself\"].name.value_counts()[:10])\n",
    "print('\\nWho are the top 10 people most often credited as \"Himself\" in movie history?')\n",
    "print(cast[cast.character == \"Himself\"].name.value_counts()[:10])"
   ]
  },
  {
   "cell_type": "code",
   "execution_count": null,
   "metadata": {
    "gradient": {}
   },
   "outputs": [
    {
     "name": "stdout",
     "output_type": "stream",
     "text": [
      "What are the top 10 most frequent roles that start with the word \"Zombie\"?\n",
      "Zombie                         6264\n",
      "Zombie Horde                    206\n",
      "Zombie - Protestor - Victim      78\n",
      "Zombie Extra                     70\n",
      "Zombie Dancer                    43\n",
      "Zombie #1                        36\n",
      "Zombie Girl                      36\n",
      "Zombie #2                        31\n",
      "Zombie Vampire                   25\n",
      "Zombie Victim                    22\n",
      "Name: character, dtype: int64\n",
      "\n",
      "What are the top 10 most frequent roles that start with the word \"Police\"?\n",
      "Policeman              7029\n",
      "Police Officer         4808\n",
      "Police Inspector        742\n",
      "Police Sergeant         674\n",
      "Police officer          539\n",
      "Police                  456\n",
      "Policewoman             415\n",
      "Police Chief            410\n",
      "Police Captain          387\n",
      "Police Commissioner     337\n",
      "Name: character, dtype: int64\n"
     ]
    }
   ],
   "source": [
    "print('What are the top 10 most frequent roles that start with the word \"Zombie\"?')\n",
    "print(cast[cast.character.str.startswith('Zombie')].character.value_counts()[:10])\n",
    "print('\\nWhat are the top 10 most frequent roles that start with the word \"Police\"?')\n",
    "print(cast[cast.character.str.startswith('Police')].character.value_counts()[:10])"
   ]
  },
  {
   "cell_type": "code",
   "execution_count": null,
   "metadata": {
    "gradient": {}
   },
   "outputs": [
    {
     "name": "stdout",
     "output_type": "stream",
     "text": [
      "Plot how many roles 'Keanu Reeves' has played in each year of his career.\n"
     ]
    },
    {
     "data": {
      "text/plain": [
       "<matplotlib.axes._subplots.AxesSubplot at 0x7fa1e13ee310>"
      ]
     },
     "execution_count": 7,
     "metadata": {},
     "output_type": "execute_result"
    },
    {
     "data": {
      "image/png": "[encoded data removed]",
      "text/plain": [
       "<Figure size 432x288 with 1 Axes>"
      ]
     },
     "metadata": {
      "needs_background": "light"
     },
     "output_type": "display_data"
    }
   ],
   "source": [
    "print(\"Plot how many roles 'Keanu Reeves' has played in each year of his career.\")\n",
    "kroles = cast[cast.name == 'Keanu Reeves'].year.value_counts().sort_index()\n",
    "kroles.plot()"
   ]
  },
  {
   "cell_type": "code",
   "execution_count": null,
   "metadata": {
    "gradient": {}
   },
   "outputs": [
    {
     "name": "stdout",
     "output_type": "stream",
     "text": [
      "Plot the cast positions (n-values) of Keanu Reeve's roles through his career over the years.\n"
     ]
    },
    {
     "data": {
      "text/plain": [
       "<matplotlib.axes._subplots.AxesSubplot at 0x7fa1e137e650>"
      ]
     },
     "execution_count": 8,
     "metadata": {},
     "output_type": "execute_result"
    },
    {
     "data": {
      "image/png": "[encoded data removed]",
      "text/plain": [
       "<Figure size 432x288 with 1 Axes>"
      ]
     },
     "metadata": {
      "needs_background": "light"
     },
     "output_type": "display_data"
    }
   ],
   "source": [
    "print(\"Plot the cast positions (n-values) of Keanu Reeve's roles through his career over the years.\")\n",
    "knv = cast[(cast.name == 'Keanu Reeves') & (cast.n == cast.n)][['year', 'n']].sort_values(by=['year'])\n",
    "knv.plot(x=0, y=1)"
   ]
  },
  {
   "cell_type": "code",
   "execution_count": null,
   "metadata": {
    "gradient": {}
   },
   "outputs": [
    {
     "name": "stdout",
     "output_type": "stream",
     "text": [
      "Plot the number of \"Hamlet\" films made by each decade\n"
     ]
    },
    {
     "data": {
      "text/plain": [
       "<matplotlib.axes._subplots.AxesSubplot at 0x7fa1e13632d0>"
      ]
     },
     "execution_count": 9,
     "metadata": {},
     "output_type": "execute_result"
    },
    {
     "data": {
      "image/png": "[encoded data removed]",
      "text/plain": [
       "<Figure size 432x288 with 1 Axes>"
      ]
     },
     "metadata": {
      "needs_background": "light"
     },
     "output_type": "display_data"
    }
   ],
   "source": [
    "print('Plot the number of \"Hamlet\" films made by each decade')\n",
    "hamlets = movies[(movies.title == 'Hamlet')]\n",
    "decades = (hamlets.year - (hamlets.year % 10)).value_counts()[:].sort_index()\n",
    "decades.plot.barh()"
   ]
  },
  {
   "cell_type": "code",
   "execution_count": null,
   "metadata": {
    "gradient": {}
   },
   "outputs": [
    {
     "name": "stdout",
     "output_type": "stream",
     "text": [
      "How many leading roles were available to both actors and actresses, in the 1960s (1960-1969)?\n",
      "80215\n",
      "\n",
      "How many leading roles were available to both actors and actresses, in the 2000s (2000-2009)?\n",
      "188672\n"
     ]
    }
   ],
   "source": [
    "print(\"How many leading roles were available to both actors and actresses, in the 1960s (1960-1969)?\")\n",
    "print(len(cast[(cast.year >= 1960) & (cast.year < 1970) & (cast.n < 10)]))\n",
    "print(\"\\nHow many leading roles were available to both actors and actresses, in the 2000s (2000-2009)?\")\n",
    "print(len(cast[(cast.year >= 2000) & (cast.year < 2010) & (cast.n < 10)]))"
   ]
  },
  {
   "cell_type": "code",
   "execution_count": null,
   "metadata": {
    "gradient": {}
   },
   "outputs": [
    {
     "name": "stdout",
     "output_type": "stream",
     "text": [
      "List, in order by year, each of the films in which Frank Oz has played more than 1 role.\n",
      "        year                                 title\n",
      "155750  1979                      The Muppet Movie\n",
      "107533  1981        An American Werewolf in London\n",
      "122648  1981                The Great Muppet Caper\n",
      "27762   1982                      The Dark Crystal\n",
      "46924   1984            The Muppets Take Manhattan\n",
      "163630  1985                      Follow That Bird\n",
      "102003  1992            The Muppet Christmas Carol\n",
      "103351  1996                Muppet Treasure Island\n",
      "97187   1999  The Adventures of Elmo in Grouchland\n",
      "183609  1999                    Muppets from Space\n"
     ]
    }
   ],
   "source": [
    "print(\"List, in order by year, each of the films in which Frank Oz has played more than 1 role.\")\n",
    "fozzy = cast[cast.name == \"Frank Oz\"].title.value_counts()\n",
    "fozzy = fozzy[fozzy > 1].index.values.tolist()\n",
    "print(movies[movies.title.isin(fozzy)][['year','title']].sort_values(by=['year']))"
   ]
  },
  {
   "cell_type": "code",
   "execution_count": null,
   "metadata": {
    "gradient": {}
   },
   "outputs": [
    {
     "name": "stdout",
     "output_type": "stream",
     "text": [
      "List each of the characters that Frank Oz has portrayed at least twice\n",
      "['Miss Piggy', 'Yoda', 'Animal', 'Cookie Monster', 'Sam the Eagle', 'Fozzie Bear', 'Bert', 'Grover']\n"
     ]
    }
   ],
   "source": [
    "print(\"List each of the characters that Frank Oz has portrayed at least twice\")\n",
    "fozzy = cast[cast.name == \"Frank Oz\"].character.value_counts()\n",
    "fozzy = fozzy[fozzy > 1].index.values.tolist()\n",
    "print(fozzy)"
   ]
  },
  {
   "cell_type": "code",
   "execution_count": null,
   "metadata": {
    "gradient": {}
   },
   "outputs": [],
   "source": []
  }
 ],
 "metadata": {
  "kernelspec": {
   "display_name": "Python 3",
   "language": "python",
   "name": "python3"
  },
  "language_info": {
   "codemirror_mode": {
    "name": "ipython",
    "version": 3
   },
   "file_extension": ".py",
   "mimetype": "text/x-python",
   "name": "python",
   "nbconvert_exporter": "python",
   "pygments_lexer": "ipython3",
   "version": "3.7.9"
  }
 },
 "nbformat": 4,
 "nbformat_minor": 4
}
