{
 "cells": [
  {
   "cell_type": "code",
   "execution_count": null,
   "metadata": {
    "gradient": {}
   },
   "outputs": [],
   "source": [
    "import pandas as pd\n",
    "import matplotlib.pyplot as plt\n",
    "\n",
    "%matplotlib inline"
   ]
  },
  {
   "cell_type": "code",
   "execution_count": null,
   "metadata": {
    "gradient": {}
   },
   "outputs": [],
   "source": [
    "movies = pd.read_csv('titles.csv')\n",
    "cast = pd.read_csv('cast.csv.zip')\n",
    "release_dates = pd.read_csv('release_dates.csv', parse_dates=['date'], infer_datetime_format=True)"
   ]
  },
  {
   "cell_type": "code",
   "execution_count": null,
   "metadata": {
    "gradient": {}
   },
   "outputs": [
    {
     "name": "stdout",
     "output_type": "stream",
     "text": [
      "List all the 'Harry Potter' movies from the most recent to the earliest\n"
     ]
    },
    {
     "name": "stdout",
     "output_type": "stream",
     "text": [
      "                                               title  year\n",
      "143147  Harry Potter and the Deathly Hallows: Part 2  2011\n",
      "152831  Harry Potter and the Deathly Hallows: Part 1  2010\n",
      "109213        Harry Potter and the Half-Blood Prince  2009\n",
      "50581      Harry Potter and the Order of the Phoenix  2007\n",
      "187926           Harry Potter and the Goblet of Fire  2005\n",
      "61957       Harry Potter and the Prisoner of Azkaban  2004\n",
      "82791        Harry Potter and the Chamber of Secrets  2002\n",
      "223087         Harry Potter and the Sorcerer's Stone  2001\n"
     ]
    }
   ],
   "source": [
    "print(\"List all the 'Harry Potter' movies from the most recent to the earliest\")\n",
    "harrypotter_df = movies[movies.title.str.contains('Harry Potter', case=False)]\n",
    "print(harrypotter_df.sort_values(by=['year'], ascending=False).iloc[:])"
   ]
  },
  {
   "cell_type": "code",
   "execution_count": null,
   "metadata": {
    "gradient": {}
   },
   "outputs": [
    {
     "name": "stdout",
     "output_type": "stream",
     "text": [
      "How many movies were made in the year 2015?\n",
      "8702\n"
     ]
    }
   ],
   "source": [
    "print(\"How many movies were made in the year 2015?\")\n",
    "print(len(movies[movies.year == 2015]))"
   ]
  },
  {
   "cell_type": "code",
   "execution_count": null,
   "metadata": {
    "gradient": {}
   },
   "outputs": [
    {
     "name": "stdout",
     "output_type": "stream",
     "text": [
      "How many movies were made from 2000 till 2018?\n",
      "106029\n"
     ]
    }
   ],
   "source": [
    "print(\"How many movies were made from 2000 till 2018?\")\n",
    "print(len(movies[(movies.year >= 2000) & (movies.year < 2018)]))"
   ]
  },
  {
   "cell_type": "code",
   "execution_count": null,
   "metadata": {
    "gradient": {}
   },
   "outputs": [
    {
     "name": "stdout",
     "output_type": "stream",
     "text": [
      "How many movies are titled \"Hamlet\"?\n",
      "20\n"
     ]
    }
   ],
   "source": [
    "print('How many movies are titled \"Hamlet\"?')\n",
    "print(len(movies[movies.title == 'Hamlet']))"
   ]
  },
  {
   "cell_type": "code",
   "execution_count": null,
   "metadata": {
    "gradient": {}
   },
   "outputs": [
    {
     "name": "stdout",
     "output_type": "stream",
     "text": [
      "List all movies titled \"Hamlet\"\n",
      "         title  year\n",
      "1931    Hamlet  2009\n",
      "8214    Hamlet  1976\n",
      "46344   Hamlet  1921\n",
      "55639   Hamlet  2000\n",
      "73869   Hamlet  1948\n",
      "98326   Hamlet  1990\n",
      "118535  Hamlet  1913\n",
      "124506  Hamlet  1911\n",
      "140203  Hamlet  1954\n",
      "155004  Hamlet  1964\n",
      "178290  Hamlet  2014\n",
      "180979  Hamlet  1987\n",
      "181090  Hamlet  1910\n",
      "186137  Hamlet  2015\n",
      "191940  Hamlet  2016\n",
      "218339  Hamlet  1973\n",
      "222156  Hamlet  1969\n",
      "227953  Hamlet  2011\n",
      "241149  Hamlet  1996\n",
      "244747  Hamlet  2017\n"
     ]
    }
   ],
   "source": [
    "print('List all movies titled \"Hamlet\"')\n",
    "print(movies[movies.title == 'Hamlet'].iloc[:])"
   ]
  },
  {
   "cell_type": "code",
   "execution_count": null,
   "metadata": {
    "gradient": {}
   },
   "outputs": [
    {
     "name": "stdout",
     "output_type": "stream",
     "text": [
      "How many roles in the movie \"Inception\" are of the supporting cast\n"
     ]
    },
    {
     "name": "stdout",
     "output_type": "stream",
     "text": [
      "27\n"
     ]
    }
   ],
   "source": [
    "print('How many roles in the movie \"Inception\" are of the supporting cast')\n",
    "print(len(cast[(cast.title == 'Inception') & (cast.n != cast.n)]))"
   ]
  },
  {
   "cell_type": "code",
   "execution_count": null,
   "metadata": {
    "gradient": {}
   },
   "outputs": [
    {
     "name": "stdout",
     "output_type": "stream",
     "text": [
      "How many roles in the movie \"Inception\" are of the main cast\n"
     ]
    },
    {
     "name": "stdout",
     "output_type": "stream",
     "text": [
      "51\n"
     ]
    }
   ],
   "source": [
    "print('How many roles in the movie \"Inception\" are of the main cast')\n",
    "print(len(cast[(cast.title == 'Inception') & (cast.n == cast.n)]))"
   ]
  },
  {
   "cell_type": "code",
   "execution_count": null,
   "metadata": {
    "gradient": {}
   },
   "outputs": [
    {
     "name": "stdout",
     "output_type": "stream",
     "text": [
      "Show the top ten cast (actors\u0007ctresses) in the movie \"Inception\"\n"
     ]
    },
    {
     "name": "stdout",
     "output_type": "stream",
     "text": [
      "                         name\n",
      "590576      Leonardo DiCaprio\n",
      "859993   Joseph Gordon-Levitt\n",
      "3387147            Ellen Page\n",
      "940923              Tom Hardy\n",
      "2406531          Ken Watanabe\n",
      "1876301            Dileep Rao\n",
      "1615709        Cillian Murphy\n",
      "183937           Tom Berenger\n",
      "2765969      Marion Cotillard\n",
      "1826027    Pete Postlethwaite\n"
     ]
    }
   ],
   "source": [
    "print('Show the top ten cast (actors\\actresses) in the movie \"Inception\"')\n",
    "print(cast[(cast.title == 'Inception') & (cast.n == cast.n)].sort_values(by=['n'], ascending=True).iloc[0:10, 2:3])"
   ]
  },
  {
   "cell_type": "code",
   "execution_count": null,
   "metadata": {
    "gradient": {}
   },
   "outputs": [
    {
     "name": "stdout",
     "output_type": "stream",
     "text": [
      "List all movies where there was a character 'Albus Dumbledore'\n"
     ]
    },
    {
     "name": "stdout",
     "output_type": "stream",
     "text": [
      "                                             title  year\n",
      "704984                                  Epic Movie  2007\n",
      "792421         Harry Potter and the Goblet of Fire  2005\n",
      "792423   Harry Potter and the Order of the Phoenix  2007\n",
      "792424    Harry Potter and the Prisoner of Azkaban  2004\n",
      "947789     Harry Potter and the Chamber of Secrets  2002\n",
      "947790       Harry Potter and the Sorcerer's Stone  2001\n",
      "1685537                      Ultimate Hero Project  2013\n",
      "2248085                                     Potter  2015\n",
      "\n",
      "Now modify the above to show only the actors who played the character 'Albus Dumbledore'\n"
     ]
    },
    {
     "name": "stdout",
     "output_type": "stream",
     "text": [
      "                        name\n",
      "704984          Dane Farwell\n",
      "792421        Michael Gambon\n",
      "792423        Michael Gambon\n",
      "792424        Michael Gambon\n",
      "947789        Richard Harris\n",
      "947790        Richard Harris\n",
      "1685537  George (X) O'Connor\n",
      "2248085    Timothy Tedmanson\n"
     ]
    }
   ],
   "source": [
    "print(\"List all movies where there was a character 'Albus Dumbledore'\")\n",
    "print(cast[cast.character == 'Albus Dumbledore'].iloc[:,0:2])\n",
    "print(\"\\nNow modify the above to show only the actors who played the character 'Albus Dumbledore'\")\n",
    "print(cast[cast.character == 'Albus Dumbledore'].iloc[:,2:3])"
   ]
  },
  {
   "cell_type": "code",
   "execution_count": null,
   "metadata": {
    "gradient": {}
   },
   "outputs": [
    {
     "name": "stdout",
     "output_type": "stream",
     "text": [
      "How many roles has 'Keanu Reeves' played throughout his career?\n"
     ]
    },
    {
     "name": "stdout",
     "output_type": "stream",
     "text": [
      "62\n",
      "\n",
      "List the leading roles that 'Keanu Reeves' played on or after 1999 in order by year.\n"
     ]
    },
    {
     "name": "stdout",
     "output_type": "stream",
     "text": [
      "                    character\n",
      "1892390                   Neo\n",
      "1892397           Shane Falco\n",
      "1892387      Donnie Barksdale\n",
      "1892398               Griffin\n",
      "1892358         Conor O'Neill\n",
      "1892383           Nelson Moss\n",
      "1892379         Julian Mercer\n",
      "1892348      John Constantine\n",
      "1892343            Bob Arctor\n",
      "1892388            Alex Wyler\n",
      "1892385                Klaatu\n",
      "1892382  Detective Tom Ludlow\n",
      "1892359           Henry Torne\n",
      "1892342                   Kai\n",
      "1892368           Donaka Mark\n",
      "1892361             John Wick\n",
      "1892366                  Evan\n",
      "1892384             The Dream\n",
      "1892393                  Hank\n",
      "1892353      Detective Galban\n",
      "1892399                Ramsey\n",
      "1892362             John Wick\n",
      "1892378            Lucas Hill\n"
     ]
    }
   ],
   "source": [
    "print(\"How many roles has 'Keanu Reeves' played throughout his career?\")\n",
    "print(len(cast[cast.name == 'Keanu Reeves']))\n",
    "print(\"\\nList the leading roles that 'Keanu Reeves' played on or after 1999 in order by year.\")\n",
    "print(cast[(cast.name == 'Keanu Reeves') & (cast.year >= 1999) & (cast.n < 10)].sort_values(by=['year'], ascending=True).iloc[:,4:5])"
   ]
  },
  {
   "cell_type": "code",
   "execution_count": null,
   "metadata": {
    "gradient": {}
   },
   "outputs": [
    {
     "name": "stdout",
     "output_type": "stream",
     "text": [
      "List the total number of actor and actress roles available from 1950 - 1960\n"
     ]
    },
    {
     "name": "stdout",
     "output_type": "stream",
     "text": [
      "215471\n",
      "\n",
      "List the total number of actor and actress roles available from 2007 - 2017\n"
     ]
    },
    {
     "name": "stdout",
     "output_type": "stream",
     "text": [
      "1292973\n"
     ]
    }
   ],
   "source": [
    "print(\"List the total number of actor and actress roles available from 1950 - 1960\")\n",
    "print(len(cast[(cast.year >= 1950) & (cast.year < 1960)]))\n",
    "print(\"\\nList the total number of actor and actress roles available from 2007 - 2017\")\n",
    "print(len(cast[(cast.year >= 2007) & (cast.year < 2017)]))"
   ]
  },
  {
   "cell_type": "code",
   "execution_count": null,
   "metadata": {
    "gradient": {}
   },
   "outputs": [
    {
     "name": "stdout",
     "output_type": "stream",
     "text": [
      "List the total number of leading roles available from 2000 to present\n",
      "461385\n",
      "\n",
      "List the total number of non-leading roles available from 2000 - present (exclude support cast)\n"
     ]
    },
    {
     "name": "stdout",
     "output_type": "stream",
     "text": [
      "600893\n",
      "\n",
      "List the total number of support\\extra-credit roles available from 2000 - present\n"
     ]
    },
    {
     "name": "stdout",
     "output_type": "stream",
     "text": [
      "887484\n"
     ]
    }
   ],
   "source": [
    "print(\"List the total number of leading roles available from 2000 to present\")\n",
    "print(len(cast[(cast.year >= 2000) & (cast.n <= 10) & (cast.n == cast.n)]))\n",
    "print(\"\\nList the total number of non-leading roles available from 2000 - present (exclude support cast)\")\n",
    "print(len(cast[(cast.year >= 2000) & (cast.n > 10) & (cast.n == cast.n)]))\n",
    "print(\"\\nList the total number of support\\extra-credit roles available from 2000 - present\")\n",
    "print(len(cast[(cast.year >= 2000) & (cast.n != cast.n)]))"
   ]
  },
  {
   "cell_type": "code",
   "execution_count": null,
   "metadata": {
    "gradient": {}
   },
   "outputs": [],
   "source": []
  }
 ],
 "metadata": {
  "kernelspec": {
   "display_name": "Python 3",
   "language": "python",
   "name": "python3"
  },
  "language_info": {
   "codemirror_mode": {
    "name": "ipython",
    "version": 3
   },
   "file_extension": ".py",
   "mimetype": "text/x-python",
   "name": "python",
   "nbconvert_exporter": "python",
   "pygments_lexer": "ipython3",
   "version": "3.7.9"
  }
 },
 "nbformat": 4,
 "nbformat_minor": 4
}
